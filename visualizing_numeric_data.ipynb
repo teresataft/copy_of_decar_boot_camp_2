{
 "cells": [
  {
   "cell_type": "markdown",
   "metadata": {},
   "source": [
    "<html>\n",
    "<table width=\"100%\" cellspacing=\"2\" cellpadding=\"2\" border=\"1\">\n",
    "<tbody>\n",
    "<tr>\n",
    "<td valign=\"center\" align=\"center\" width=\"25%\"><img src=\"media/decartes.jpg\"\n",
    "alt=\"DeCART Icon\" width=\"128\" height=\"171\"><br>\n",
    "</td>\n",
    "<td valign=\"center\" align=\"center\" width=\"75%\">\n",
    "<h1 align=\"center\"><font size=\"+1\">DeCART Summer School<br>\n",
    "for<br>\n",
    "Biomedical Data Science</font></h1></td>\n",
    "<td valign=\"center\" align=\"center\" width=\"25%\"><img\n",
    "src=\"media/U_Health_stacked_png_red.png\" alt=\"Utah Health\n",
    "Logo\" width=\"128\" height=\"134\"><br>\n",
    "</td>\n",
    "</tr>\n",
    "</tbody>\n",
    "</table>\n",
    "<br>\n",
    "</html>"
   ]
  },
  {
   "cell_type": "markdown",
   "metadata": {},
   "source": [
    "# Visualizing Numeric Data"
   ]
  },
  {
   "cell_type": "code",
   "execution_count": 1,
   "metadata": {},
   "outputs": [],
   "source": [
    "import os\n",
    "import glob\n",
    "import matplotlib.pyplot as plt\n",
    "import seaborn as sns\n",
    "import numpy as np\n",
    "import pandas as pd"
   ]
  },
  {
   "cell_type": "code",
   "execution_count": 2,
   "metadata": {},
   "outputs": [],
   "source": [
    "DATADIR = os.path.join(os.path.expanduser(\"~\"),\"DATA\")"
   ]
  },
  {
   "cell_type": "markdown",
   "metadata": {},
   "source": [
    "## [Matplotlib](http://matplotlib.org)\n",
    "\n",
    "Matplotlib is the againg yet competent graphing package that is part of the \"scipy stack.\" Matplotlib focuses on 2D visualizations but it does come with a 3D visualization module that can be used interactively (but not through the notebook).\n",
    "\n",
    "NetworkX and Pandas both use matplotlib as their default drawing packages for quick visualization of data.\n",
    "\n",
    "Matplotlib plots can be customized with a fairly flexible api.\n",
    "\n",
    "For the most part, the best way to learn Matplotlib is to find an example from the [gallery](http://matplotlib.org/gallery.html)\n"
   ]
  },
  {
   "cell_type": "markdown",
   "metadata": {},
   "source": [
    "The following cell is an exmaple of a **notebook magic**. This particular magic is telling the matplotlib package to draw in the notebook rather than trying to open a separate Python window to draw in."
   ]
  },
  {
   "cell_type": "code",
   "execution_count": 3,
   "metadata": {},
   "outputs": [],
   "source": [
    "%matplotlib inline"
   ]
  },
  {
   "cell_type": "markdown",
   "metadata": {},
   "source": [
    "## Using [glob](https://docs.python.org/3/library/glob.html) and [os.listdir](https://docs.python.org/3/library/os.html)\n",
    "\n",
    "It is desirable to make our code as platform independent as possible and also to be able to "
   ]
  },
  {
   "cell_type": "code",
   "execution_count": 4,
   "metadata": {},
   "outputs": [],
   "source": [
    "HRDIR = os.path.join(DATADIR,\"Numerics\", \"mimic2\", \"hr\", \"subjects\")\n",
    "BPDIR = os.path.join(DATADIR,\"Numerics\",\"mimic2\",\"bp\", \"subjects\")\n",
    "hr_files = os.listdir(HRDIR)\n",
    "bp_files = os.listdir(BPDIR)"
   ]
  },
  {
   "cell_type": "code",
   "execution_count": 7,
   "metadata": {},
   "outputs": [
    {
     "data": {
      "text/plain": [
       "['24835.txt',\n",
       " '10804.txt',\n",
       " '22241.txt',\n",
       " '11824.txt',\n",
       " '22707.txt',\n",
       " '22512.txt',\n",
       " '6615.txt',\n",
       " '732.txt',\n",
       " '8271.txt',\n",
       " '11808.txt',\n",
       " '3587.txt',\n",
       " '21500.txt',\n",
       " '18531.txt',\n",
       " '17025.txt',\n",
       " '9157.txt',\n",
       " '14266.txt',\n",
       " '22496.txt',\n",
       " '16712.txt',\n",
       " '24198.txt',\n",
       " '6152.txt',\n",
       " '24595.txt',\n",
       " '21442.txt',\n",
       " '18568.txt',\n",
       " '10305.txt',\n",
       " '25674.txt',\n",
       " '3554.txt',\n",
       " '8038.txt',\n",
       " '11307.txt',\n",
       " '25845.txt',\n",
       " '8722.txt',\n",
       " '17848.txt',\n",
       " '792.txt',\n",
       " '4549.txt',\n",
       " '25556.txt',\n",
       " '17970.txt',\n",
       " '8569.txt',\n",
       " '22565.txt',\n",
       " '5904.txt',\n",
       " '4851.txt',\n",
       " '20508.txt',\n",
       " '18471.txt',\n",
       " '12667.txt',\n",
       " '17083.txt',\n",
       " '26107.txt',\n",
       " '14515.txt',\n",
       " '10019.txt',\n",
       " '22096.txt',\n",
       " '16240.txt',\n",
       " '1270.txt',\n",
       " '29348.txt',\n",
       " '14722.txt',\n",
       " '3275.txt',\n",
       " '4927.txt',\n",
       " '19413.txt',\n",
       " '2180.txt',\n",
       " '22492.txt',\n",
       " '6701.txt',\n",
       " '2364.txt',\n",
       " '283.txt',\n",
       " '7352.txt',\n",
       " '5819.txt',\n",
       " '4666.txt',\n",
       " '26498.txt',\n",
       " '2871.txt',\n",
       " '10193.txt',\n",
       " '13575.txt',\n",
       " '22916.txt',\n",
       " '19847.txt',\n",
       " '19619.txt',\n",
       " '10557.txt',\n",
       " '25963.txt',\n",
       " '19597.txt',\n",
       " '10093.txt',\n",
       " '19352.txt',\n",
       " '17754.txt',\n",
       " '5150.txt',\n",
       " '5252.txt',\n",
       " '13706.txt',\n",
       " '10784.txt',\n",
       " '20349.txt',\n",
       " '22537.txt',\n",
       " '3941.txt',\n",
       " '22376.txt',\n",
       " '18253.txt',\n",
       " '13545.txt',\n",
       " '13566.txt',\n",
       " '5845.txt',\n",
       " '26388.txt',\n",
       " '3474.txt',\n",
       " '7255.txt',\n",
       " '14059.txt',\n",
       " '13993.txt',\n",
       " '6898.txt',\n",
       " '25814.txt',\n",
       " '30420.txt',\n",
       " '23138.txt',\n",
       " '11680.txt',\n",
       " '21126.txt',\n",
       " '19494.txt',\n",
       " '21856.txt',\n",
       " '4993.txt',\n",
       " '2765.txt',\n",
       " '15730.txt',\n",
       " '23275.txt',\n",
       " '3677.txt',\n",
       " '20448.txt',\n",
       " '12727.txt',\n",
       " '18589.txt',\n",
       " '10301.txt',\n",
       " '22338.txt',\n",
       " '19628.txt',\n",
       " '1752.txt',\n",
       " '9152.txt',\n",
       " '11092.txt',\n",
       " '3913.txt',\n",
       " '18556.txt',\n",
       " '20879.txt',\n",
       " '20386.txt',\n",
       " '12870.txt',\n",
       " '15422.txt',\n",
       " '24582.txt',\n",
       " '17519.txt',\n",
       " '21372.txt',\n",
       " '17121.txt',\n",
       " '26588.txt',\n",
       " '9132.txt',\n",
       " '9754.txt',\n",
       " '25152.txt',\n",
       " '7910.txt',\n",
       " '23502.txt',\n",
       " '1314.txt',\n",
       " '23961.txt',\n",
       " '22970.txt',\n",
       " '6746.txt',\n",
       " '25517.txt',\n",
       " '25455.txt',\n",
       " '20280.txt',\n",
       " '15194.txt',\n",
       " '20794.txt',\n",
       " '25711.txt',\n",
       " '23641.txt',\n",
       " '5194.txt',\n",
       " '24224.txt',\n",
       " '17399.txt',\n",
       " '12166.txt',\n",
       " '10577.txt',\n",
       " '1882.txt',\n",
       " '13966.txt',\n",
       " '7895.txt',\n",
       " '19662.txt',\n",
       " '8440.txt',\n",
       " '2863.txt',\n",
       " '4798.txt',\n",
       " '22137.txt',\n",
       " '20181.txt',\n",
       " '17808.txt',\n",
       " '24823.txt',\n",
       " '21553.txt',\n",
       " '19848.txt',\n",
       " '3678.txt',\n",
       " '8494.txt',\n",
       " '18463.txt',\n",
       " '8920.txt',\n",
       " '19006.txt',\n",
       " '19898.txt',\n",
       " '3831.txt',\n",
       " '22938.txt',\n",
       " '985.txt',\n",
       " '9464.txt',\n",
       " '11466.txt',\n",
       " '8264.txt',\n",
       " '23592.txt',\n",
       " '21374.txt',\n",
       " '15011.txt',\n",
       " '25408.txt',\n",
       " '5174.txt',\n",
       " '24580.txt',\n",
       " '3015.txt',\n",
       " '15675.txt',\n",
       " '11930.txt',\n",
       " '19433.txt',\n",
       " '15283.txt',\n",
       " '2564.txt',\n",
       " '17875.txt',\n",
       " '5241.txt',\n",
       " '3236.txt',\n",
       " '18552.txt',\n",
       " '14457.txt',\n",
       " '2581.txt',\n",
       " '9732.txt',\n",
       " '23115.txt',\n",
       " '7265.txt',\n",
       " '21216.txt',\n",
       " '31270.txt',\n",
       " '12099.txt',\n",
       " '11101.txt',\n",
       " '1531.txt',\n",
       " '1234.txt',\n",
       " '18588.txt',\n",
       " '19326.txt',\n",
       " '1227.txt',\n",
       " '18989.txt',\n",
       " '20384.txt',\n",
       " '17629.txt',\n",
       " '16400.txt',\n",
       " '19128.txt',\n",
       " '13495.txt',\n",
       " '2456.txt',\n",
       " '18475.txt',\n",
       " '20091.txt',\n",
       " '9259.txt',\n",
       " '26645.txt',\n",
       " '12550.txt',\n",
       " '6366.txt',\n",
       " '17330.txt',\n",
       " '23038.txt',\n",
       " '29486.txt',\n",
       " '19082.txt',\n",
       " '18984.txt',\n",
       " '21371.txt',\n",
       " '16449.txt',\n",
       " '24263.txt',\n",
       " '23508.txt',\n",
       " '22595.txt',\n",
       " '8445.txt',\n",
       " '9900.txt',\n",
       " '7952.txt',\n",
       " '11137.txt',\n",
       " '19243.txt',\n",
       " '21652.txt',\n",
       " '11720.txt',\n",
       " '26474.txt',\n",
       " '15907.txt',\n",
       " '1684.txt',\n",
       " '13882.txt',\n",
       " '29853.txt',\n",
       " '27051.txt',\n",
       " '9497.txt',\n",
       " '11605.txt',\n",
       " '26267.txt',\n",
       " '21967.txt',\n",
       " '22169.txt',\n",
       " '16622.txt',\n",
       " '12651.txt',\n",
       " '14579.txt',\n",
       " '24569.txt',\n",
       " '26241.txt',\n",
       " '32131.txt',\n",
       " '9024.txt',\n",
       " '30984.txt',\n",
       " '14388.txt',\n",
       " '7515.txt',\n",
       " '11147.txt',\n",
       " '16923.txt',\n",
       " '11729.txt',\n",
       " '26713.txt',\n",
       " '21082.txt',\n",
       " '3248.txt',\n",
       " '14574.txt',\n",
       " '10874.txt',\n",
       " '2186.txt',\n",
       " '14049.txt',\n",
       " '21184.txt',\n",
       " '4303.txt',\n",
       " '19872.txt',\n",
       " '3778.txt',\n",
       " '32675.txt',\n",
       " '10628.txt',\n",
       " '20050.txt',\n",
       " '2127.txt',\n",
       " '7284.txt',\n",
       " '32401.txt',\n",
       " '4690.txt',\n",
       " '21705.txt',\n",
       " '11547.txt',\n",
       " '28325.txt',\n",
       " '12212.txt',\n",
       " '21207.txt',\n",
       " '23520.txt',\n",
       " '31476.txt',\n",
       " '4195.txt',\n",
       " '21815.txt',\n",
       " '4698.txt',\n",
       " '18700.txt',\n",
       " '23056.txt',\n",
       " '8186.txt',\n",
       " '27056.txt',\n",
       " '9951.txt',\n",
       " '14126.txt',\n",
       " '3101.txt',\n",
       " '30817.txt',\n",
       " '19147.txt',\n",
       " '2213.txt',\n",
       " '17342.txt',\n",
       " '10541.txt',\n",
       " '15445.txt',\n",
       " '15654.txt',\n",
       " '22348.txt',\n",
       " '12071.txt',\n",
       " '12646.txt',\n",
       " '6639.txt',\n",
       " '15227.txt',\n",
       " '16990.txt',\n",
       " '14827.txt',\n",
       " '22818.txt',\n",
       " '11282.txt',\n",
       " '9621.txt',\n",
       " '9200.txt',\n",
       " '1501.txt',\n",
       " '11433.txt',\n",
       " '1106.txt',\n",
       " '24907.txt',\n",
       " '24935.txt',\n",
       " '23985.txt',\n",
       " '19359.txt',\n",
       " '517.txt',\n",
       " '12704.txt',\n",
       " '5712.txt',\n",
       " '9082.txt',\n",
       " '408.txt',\n",
       " '3400.txt',\n",
       " '5225.txt',\n",
       " '7718.txt',\n",
       " '14207.txt',\n",
       " '8196.txt',\n",
       " '16985.txt',\n",
       " '5472.txt',\n",
       " '13657.txt',\n",
       " '12413.txt',\n",
       " '1449.txt',\n",
       " '4793.txt',\n",
       " '9726.txt',\n",
       " '28266.txt',\n",
       " '19023.txt',\n",
       " '2428.txt',\n",
       " '25525.txt',\n",
       " '13943.txt',\n",
       " '5853.txt',\n",
       " '22956.txt',\n",
       " '5532.txt',\n",
       " '1357.txt',\n",
       " '19680.txt',\n",
       " '2664.txt',\n",
       " '10830.txt',\n",
       " '14566.txt',\n",
       " '23877.txt',\n",
       " '10088.txt',\n",
       " '3520.txt',\n",
       " '19002.txt',\n",
       " '16641.txt',\n",
       " '6817.txt',\n",
       " '18736.txt',\n",
       " '11332.txt',\n",
       " '13660.txt',\n",
       " '24851.txt',\n",
       " '21903.txt',\n",
       " '30404.txt',\n",
       " '27671.txt',\n",
       " '11191.txt',\n",
       " '24846.txt',\n",
       " '14080.txt',\n",
       " '12045.txt',\n",
       " '18818.txt',\n",
       " '25441.txt',\n",
       " '5029.txt',\n",
       " '20409.txt',\n",
       " '25180.txt',\n",
       " '308.txt',\n",
       " '7328.txt',\n",
       " '12925.txt',\n",
       " '14575.txt',\n",
       " '9086.txt',\n",
       " '10653.txt',\n",
       " '25300.txt',\n",
       " '15396.txt',\n",
       " '26318.txt',\n",
       " '618.txt',\n",
       " '10245.txt',\n",
       " '7310.txt',\n",
       " '14182.txt',\n",
       " '16892.txt',\n",
       " '14994.txt',\n",
       " '921.txt',\n",
       " '2471.txt',\n",
       " '15723.txt',\n",
       " '21301.txt',\n",
       " '14486.txt',\n",
       " '18646.txt',\n",
       " '4653.txt',\n",
       " '6594.txt',\n",
       " '5675.txt',\n",
       " '32064.txt',\n",
       " '25069.txt',\n",
       " '19458.txt',\n",
       " '7432.txt',\n",
       " '14038.txt',\n",
       " '9118.txt',\n",
       " '16455.txt',\n",
       " '32443.txt',\n",
       " '10430.txt',\n",
       " '14168.txt',\n",
       " '3840.txt',\n",
       " '20320.txt',\n",
       " '24581.txt',\n",
       " '17751.txt',\n",
       " '4795.txt',\n",
       " '3988.txt',\n",
       " '32529.txt',\n",
       " '11142.txt',\n",
       " '21738.txt',\n",
       " '25672.txt',\n",
       " '27506.txt',\n",
       " '6800.txt',\n",
       " '17555.txt',\n",
       " '15027.txt',\n",
       " '21887.txt',\n",
       " '29585.txt',\n",
       " '19222.txt',\n",
       " '20309.txt',\n",
       " '16723.txt',\n",
       " '8156.txt',\n",
       " '5382.txt',\n",
       " '1120.txt',\n",
       " '18048.txt',\n",
       " '22280.txt',\n",
       " '20174.txt',\n",
       " '19311.txt',\n",
       " '5074.txt',\n",
       " '11956.txt',\n",
       " '937.txt',\n",
       " '2743.txt',\n",
       " '1606.txt',\n",
       " '11764.txt',\n",
       " '20846.txt',\n",
       " '4925.txt',\n",
       " '14887.txt',\n",
       " '2291.txt',\n",
       " '22119.txt',\n",
       " '20763.txt',\n",
       " '3974.txt',\n",
       " '2297.txt',\n",
       " '496.txt',\n",
       " '13193.txt',\n",
       " '22912.txt',\n",
       " '12183.txt',\n",
       " '11811.txt',\n",
       " '18811.txt',\n",
       " '15769.txt',\n",
       " '17456.txt',\n",
       " '27716.txt',\n",
       " '13408.txt',\n",
       " '14498.txt',\n",
       " '12915.txt',\n",
       " '7976.txt',\n",
       " '18314.txt',\n",
       " '30469.txt',\n",
       " '992.txt',\n",
       " '5701.txt',\n",
       " '5562.txt',\n",
       " '13335.txt',\n",
       " '20551.txt',\n",
       " '16981.txt',\n",
       " '22901.txt',\n",
       " '12547.txt',\n",
       " '24286.txt',\n",
       " '5683.txt',\n",
       " '4270.txt',\n",
       " '5535.txt',\n",
       " '9056.txt',\n",
       " '14125.txt',\n",
       " '4855.txt',\n",
       " '26285.txt',\n",
       " '16500.txt',\n",
       " '7962.txt',\n",
       " '9380.txt',\n",
       " '18841.txt',\n",
       " '25223.txt',\n",
       " '8597.txt',\n",
       " '4516.txt',\n",
       " '21506.txt',\n",
       " '25957.txt',\n",
       " '11348.txt',\n",
       " '16992.txt',\n",
       " '6433.txt',\n",
       " '8084.txt',\n",
       " '11153.txt',\n",
       " '10154.txt',\n",
       " '17132.txt',\n",
       " '13431.txt',\n",
       " '3497.txt',\n",
       " '9325.txt',\n",
       " '7724.txt',\n",
       " '25184.txt',\n",
       " '16752.txt',\n",
       " '4254.txt',\n",
       " '29333.txt',\n",
       " '15505.txt',\n",
       " '9773.txt',\n",
       " '11460.txt',\n",
       " '2187.txt',\n",
       " '19080.txt',\n",
       " '977.txt',\n",
       " '2477.txt',\n",
       " '24902.txt',\n",
       " '5989.txt',\n",
       " '21256.txt',\n",
       " '5243.txt',\n",
       " '356.txt',\n",
       " '2225.txt',\n",
       " '19588.txt',\n",
       " '2006.txt',\n",
       " '8001.txt',\n",
       " '22480.txt',\n",
       " '5302.txt',\n",
       " '14936.txt',\n",
       " '24626.txt',\n",
       " '26689.txt',\n",
       " '31241.txt',\n",
       " '17216.txt',\n",
       " '5072.txt',\n",
       " '13161.txt',\n",
       " '20193.txt',\n",
       " '23538.txt',\n",
       " '27310.txt',\n",
       " '8145.txt',\n",
       " '1715.txt',\n",
       " '20649.txt',\n",
       " '21880.txt',\n",
       " '15365.txt',\n",
       " '22350.txt',\n",
       " '23521.txt',\n",
       " '5662.txt',\n",
       " '6211.txt',\n",
       " '16035.txt',\n",
       " '17700.txt',\n",
       " '11578.txt',\n",
       " '5996.txt',\n",
       " '24354.txt',\n",
       " '18384.txt',\n",
       " '4947.txt',\n",
       " '20574.txt',\n",
       " '3287.txt',\n",
       " '3399.txt',\n",
       " '8125.txt',\n",
       " '16447.txt',\n",
       " '19589.txt',\n",
       " '9638.txt',\n",
       " '7224.txt',\n",
       " '21231.txt',\n",
       " '4590.txt',\n",
       " '1299.txt',\n",
       " '8516.txt',\n",
       " '12457.txt',\n",
       " '9195.txt',\n",
       " '5235.txt',\n",
       " '11507.txt',\n",
       " '21525.txt',\n",
       " '11897.txt',\n",
       " '2556.txt',\n",
       " '28477.txt',\n",
       " '11714.txt',\n",
       " '609.txt',\n",
       " '2775.txt',\n",
       " '22387.txt',\n",
       " '6832.txt',\n",
       " '23259.txt',\n",
       " '7098.txt',\n",
       " '17604.txt',\n",
       " '7235.txt',\n",
       " '29957.txt',\n",
       " '26719.txt',\n",
       " '21846.txt',\n",
       " '10925.txt',\n",
       " '4452.txt',\n",
       " '8011.txt',\n",
       " '24292.txt',\n",
       " '17272.txt',\n",
       " '10362.txt',\n",
       " '2228.txt',\n",
       " '430.txt',\n",
       " '26727.txt',\n",
       " '26287.txt',\n",
       " '14905.txt',\n",
       " '7557.txt',\n",
       " '12381.txt',\n",
       " '9970.txt',\n",
       " '9648.txt',\n",
       " '12713.txt',\n",
       " '24064.txt',\n",
       " '29877.txt',\n",
       " '15510.txt',\n",
       " '13866.txt',\n",
       " '16847.txt',\n",
       " '17987.txt',\n",
       " '21403.txt',\n",
       " '8009.txt',\n",
       " '24790.txt',\n",
       " '26066.txt',\n",
       " '11871.txt',\n",
       " '25639.txt',\n",
       " '30902.txt',\n",
       " '27231.txt',\n",
       " '20971.txt',\n",
       " '29534.txt',\n",
       " '20553.txt',\n",
       " '12610.txt',\n",
       " '19989.txt',\n",
       " '23761.txt',\n",
       " '5888.txt',\n",
       " '9920.txt',\n",
       " '16311.txt',\n",
       " '12272.txt',\n",
       " '1741.txt',\n",
       " '21910.txt',\n",
       " '22780.txt',\n",
       " '15329.txt',\n",
       " '13695.txt',\n",
       " '19810.txt',\n",
       " '13957.txt',\n",
       " '21206.txt',\n",
       " '3712.txt',\n",
       " '19424.txt',\n",
       " '2704.txt',\n",
       " '29485.txt',\n",
       " '25612.txt',\n",
       " '25078.txt',\n",
       " '4275.txt',\n",
       " '3338.txt',\n",
       " '21385.txt',\n",
       " '18633.txt',\n",
       " '12533.txt',\n",
       " '8697.txt',\n",
       " '7664.txt',\n",
       " '22841.txt',\n",
       " '26709.txt',\n",
       " '3842.txt',\n",
       " '10330.txt',\n",
       " '61.txt',\n",
       " '14123.txt',\n",
       " '8099.txt',\n",
       " '4338.txt',\n",
       " '22995.txt',\n",
       " '16405.txt',\n",
       " '22373.txt',\n",
       " '2355.txt',\n",
       " '31253.txt',\n",
       " '19429.txt',\n",
       " '21572.txt',\n",
       " '21484.txt',\n",
       " '23624.txt',\n",
       " '12357.txt',\n",
       " '11989.txt',\n",
       " '7891.txt',\n",
       " '25410.txt',\n",
       " '9969.txt',\n",
       " '23814.txt',\n",
       " '1038.txt',\n",
       " '2828.txt',\n",
       " '18548.txt',\n",
       " '23172.txt',\n",
       " '22498.txt',\n",
       " '13868.txt',\n",
       " '27558.txt',\n",
       " '23658.txt',\n",
       " '20626.txt',\n",
       " '613.txt',\n",
       " '15717.txt',\n",
       " '23412.txt',\n",
       " '503.txt',\n",
       " '9945.txt',\n",
       " '4764.txt',\n",
       " '21592.txt',\n",
       " '21973.txt',\n",
       " '18216.txt',\n",
       " '3757.txt',\n",
       " '17382.txt',\n",
       " '6604.txt',\n",
       " '22230.txt',\n",
       " '20172.txt',\n",
       " '24605.txt',\n",
       " '25838.txt',\n",
       " '10235.txt',\n",
       " '17749.txt',\n",
       " '13843.txt',\n",
       " '7358.txt',\n",
       " '16963.txt',\n",
       " '10670.txt',\n",
       " '15056.txt',\n",
       " '12054.txt',\n",
       " '12739.txt',\n",
       " '25553.txt',\n",
       " '12467.txt',\n",
       " '472.txt',\n",
       " '434.txt',\n",
       " '22332.txt',\n",
       " '25404.txt',\n",
       " '16894.txt',\n",
       " '1063.txt',\n",
       " '22219.txt',\n",
       " '17067.txt',\n",
       " '5197.txt',\n",
       " '22910.txt',\n",
       " '19669.txt',\n",
       " '23455.txt',\n",
       " '3705.txt',\n",
       " '16793.txt',\n",
       " '26063.txt',\n",
       " '13175.txt',\n",
       " '32627.txt',\n",
       " '7024.txt',\n",
       " '6492.txt',\n",
       " '8368.txt',\n",
       " '22414.txt',\n",
       " '14319.txt',\n",
       " '6511.txt',\n",
       " '15513.txt',\n",
       " '14169.txt',\n",
       " '11491.txt',\n",
       " '514.txt',\n",
       " '679.txt',\n",
       " '18603.txt',\n",
       " '26511.txt',\n",
       " '8239.txt',\n",
       " '8509.txt',\n",
       " '25058.txt',\n",
       " '1092.txt',\n",
       " '26320.txt',\n",
       " '538.txt',\n",
       " '19706.txt',\n",
       " '21022.txt',\n",
       " '10940.txt',\n",
       " '6532.txt',\n",
       " '7492.txt',\n",
       " '13703.txt',\n",
       " '24896.txt',\n",
       " '14423.txt',\n",
       " '9165.txt',\n",
       " '22669.txt',\n",
       " '12145.txt',\n",
       " '9609.txt',\n",
       " '3143.txt',\n",
       " '13995.txt',\n",
       " '10558.txt',\n",
       " '24065.txt',\n",
       " '2944.txt',\n",
       " '24762.txt',\n",
       " '13069.txt',\n",
       " '8874.txt',\n",
       " '12058.txt',\n",
       " '12660.txt',\n",
       " '13445.txt',\n",
       " '3364.txt',\n",
       " '1984.txt',\n",
       " '5054.txt',\n",
       " '17805.txt',\n",
       " '10452.txt',\n",
       " '5369.txt',\n",
       " '4967.txt',\n",
       " '24923.txt',\n",
       " '18617.txt',\n",
       " '21789.txt',\n",
       " '8907.txt',\n",
       " '27983.txt',\n",
       " '1173.txt',\n",
       " '5698.txt',\n",
       " '19828.txt',\n",
       " '22527.txt',\n",
       " '25219.txt',\n",
       " '28889.txt',\n",
       " '11583.txt',\n",
       " '2924.txt',\n",
       " '22729.txt',\n",
       " '8772.txt',\n",
       " '3011.txt',\n",
       " '25606.txt',\n",
       " '13005.txt',\n",
       " '3102.txt',\n",
       " '11767.txt',\n",
       " '26283.txt',\n",
       " '9134.txt',\n",
       " '25338.txt',\n",
       " '25699.txt',\n",
       " '24956.txt',\n",
       " '4202.txt',\n",
       " '353.txt',\n",
       " '16233.txt',\n",
       " '6501.txt',\n",
       " '479.txt',\n",
       " '5786.txt',\n",
       " '4619.txt',\n",
       " '2178.txt',\n",
       " '18023.txt',\n",
       " '23660.txt',\n",
       " '26795.txt',\n",
       " '22311.txt',\n",
       " '1670.txt',\n",
       " '20926.txt',\n",
       " '3286.txt',\n",
       " '16910.txt',\n",
       " '9331.txt',\n",
       " '26231.txt',\n",
       " '16646.txt',\n",
       " '5689.txt',\n",
       " '21826.txt',\n",
       " '10979.txt',\n",
       " '17411.txt',\n",
       " '26521.txt',\n",
       " '9040.txt',\n",
       " '16423.txt',\n",
       " '10188.txt',\n",
       " '11076.txt',\n",
       " '12322.txt',\n",
       " '21684.txt',\n",
       " '2832.txt',\n",
       " '2261.txt',\n",
       " '26040.txt',\n",
       " '18947.txt',\n",
       " '27644.txt',\n",
       " '2057.txt',\n",
       " '1371.txt',\n",
       " '18982.txt',\n",
       " '24697.txt',\n",
       " '2686.txt',\n",
       " '2309.txt',\n",
       " '22979.txt',\n",
       " '31890.txt',\n",
       " '8579.txt',\n",
       " '26237.txt',\n",
       " '2684.txt',\n",
       " '21165.txt',\n",
       " '3471.txt',\n",
       " '13507.txt',\n",
       " '18465.txt',\n",
       " '29839.txt',\n",
       " '24322.txt',\n",
       " '8943.txt',\n",
       " '12331.txt',\n",
       " '23547.txt',\n",
       " '13274.txt',\n",
       " '21669.txt',\n",
       " '6999.txt',\n",
       " '1348.txt',\n",
       " '7300.txt',\n",
       " '8221.txt',\n",
       " '18520.txt',\n",
       " '10806.txt',\n",
       " '15390.txt',\n",
       " '21691.txt',\n",
       " '25955.txt',\n",
       " '5304.txt',\n",
       " '16658.txt',\n",
       " '2346.txt',\n",
       " '11850.txt',\n",
       " '25035.txt',\n",
       " '7362.txt',\n",
       " '7214.txt',\n",
       " '13602.txt',\n",
       " '21239.txt',\n",
       " '17467.txt',\n",
       " '3484.txt',\n",
       " '8171.txt',\n",
       " '18420.txt',\n",
       " '21517.txt',\n",
       " '8859.txt',\n",
       " '6468.txt',\n",
       " '15691.txt',\n",
       " '12461.txt',\n",
       " '15452.txt',\n",
       " '25915.txt',\n",
       " '28653.txt',\n",
       " '16372.txt',\n",
       " '16074.txt',\n",
       " '21434.txt',\n",
       " '8342.txt',\n",
       " '25939.txt',\n",
       " '21507.txt',\n",
       " '12720.txt',\n",
       " '4632.txt',\n",
       " '29146.txt',\n",
       " '10837.txt',\n",
       " '3347.txt',\n",
       " '2493.txt',\n",
       " '18750.txt',\n",
       " '17628.txt',\n",
       " '11523.txt',\n",
       " '23311.txt',\n",
       " '17357.txt',\n",
       " '10416.txt',\n",
       " '6053.txt',\n",
       " '7356.txt',\n",
       " '24326.txt',\n",
       " '26150.txt',\n",
       " '2085.txt',\n",
       " '11971.txt',\n",
       " '19184.txt',\n",
       " '26501.txt',\n",
       " '16993.txt',\n",
       " '23245.txt',\n",
       " '4299.txt',\n",
       " '11231.txt',\n",
       " '19869.txt',\n",
       " '27353.txt',\n",
       " '20400.txt',\n",
       " '19346.txt',\n",
       " '18637.txt',\n",
       " '24332.txt',\n",
       " '2652.txt',\n",
       " '25415.txt',\n",
       " '1996.txt',\n",
       " '6094.txt',\n",
       " '25283.txt',\n",
       " '25515.txt',\n",
       " '26706.txt',\n",
       " '17760.txt',\n",
       " '6037.txt',\n",
       " '15911.txt',\n",
       " '23418.txt',\n",
       " '6426.txt',\n",
       " '3184.txt',\n",
       " '10451.txt',\n",
       " '2906.txt',\n",
       " '4177.txt',\n",
       " '25383.txt',\n",
       " '16699.txt',\n",
       " '5008.txt',\n",
       " '17525.txt',\n",
       " '808.txt',\n",
       " '15278.txt',\n",
       " '7862.txt',\n",
       " '14035.txt',\n",
       " '15110.txt',\n",
       " '27742.txt',\n",
       " '14198.txt',\n",
       " '25995.txt',\n",
       " '5848.txt',\n",
       " '10468.txt',\n",
       " '20748.txt',\n",
       " '13457.txt',\n",
       " '31251.txt',\n",
       " '26947.txt',\n",
       " '26408.txt',\n",
       " '19255.txt',\n",
       " '5201.txt',\n",
       " '20402.txt',\n",
       " '6390.txt',\n",
       " '30502.txt',\n",
       " '25712.txt',\n",
       " '19930.txt',\n",
       " '24723.txt',\n",
       " '8581.txt',\n",
       " '7711.txt',\n",
       " '16254.txt',\n",
       " '26696.txt',\n",
       " '1067.txt',\n",
       " '9662.txt',\n",
       " '9288.txt',\n",
       " '12081.txt',\n",
       " '26248.txt',\n",
       " '24351.txt',\n",
       " '23402.txt',\n",
       " '27005.txt',\n",
       " '287.txt',\n",
       " '1320.txt',\n",
       " '11201.txt',\n",
       " '1060.txt',\n",
       " '30845.txt',\n",
       " '4868.txt',\n",
       " '8810.txt',\n",
       " '17964.txt',\n",
       " '20005.txt',\n",
       " '3800.txt',\n",
       " '945.txt',\n",
       " '23357.txt',\n",
       " '7276.txt',\n",
       " '18936.txt',\n",
       " '7225.txt',\n",
       " '23380.txt',\n",
       " '6008.txt',\n",
       " '23756.txt',\n",
       " '2953.txt',\n",
       " '25056.txt',\n",
       " '9248.txt',\n",
       " '21870.txt',\n",
       " '16775.txt',\n",
       " '14250.txt',\n",
       " '15475.txt',\n",
       " '13790.txt',\n",
       " '22303.txt',\n",
       " '18614.txt',\n",
       " '17060.txt',\n",
       " '15498.txt',\n",
       " '2071.txt',\n",
       " '521.txt',\n",
       " '15674.txt',\n",
       " '11349.txt',\n",
       " '2767.txt',\n",
       " '31937.txt',\n",
       " '26693.txt',\n",
       " '7307.txt',\n",
       " '15476.txt',\n",
       " ...]"
      ]
     },
     "execution_count": 7,
     "metadata": {},
     "output_type": "execute_result"
    }
   ],
   "source": [
    "os.listdir(HRDIR)"
   ]
  },
  {
   "cell_type": "markdown",
   "metadata": {},
   "source": [
    "## list (collection) length\n",
    "\n",
    "Python has a function [``len``]() that returns the length of a list or any other collection. This will be something we will use frequently.\n",
    "\n",
    "In this case, we need to see how many heart rate files we read"
   ]
  },
  {
   "cell_type": "code",
   "execution_count": 11,
   "metadata": {},
   "outputs": [
    {
     "data": {
      "text/plain": [
       "3903"
      ]
     },
     "execution_count": 11,
     "metadata": {},
     "output_type": "execute_result"
    }
   ],
   "source": [
    "len(hr_files)"
   ]
  },
  {
   "cell_type": "code",
   "execution_count": 12,
   "metadata": {},
   "outputs": [
    {
     "name": "stdout",
     "output_type": "stream",
     "text": [
      "3903\n",
      "4474.txt\n"
     ]
    }
   ],
   "source": [
    "print(len(hr_files))\n",
    "print(hr_files[-1])"
   ]
  },
  {
   "cell_type": "code",
   "execution_count": 13,
   "metadata": {},
   "outputs": [
    {
     "name": "stdout",
     "output_type": "stream",
     "text": [
      "(367, 1)\n"
     ]
    },
    {
     "data": {
      "text/html": [
       "<div>\n",
       "<style scoped>\n",
       "    .dataframe tbody tr th:only-of-type {\n",
       "        vertical-align: middle;\n",
       "    }\n",
       "\n",
       "    .dataframe tbody tr th {\n",
       "        vertical-align: top;\n",
       "    }\n",
       "\n",
       "    .dataframe thead th {\n",
       "        text-align: right;\n",
       "    }\n",
       "</style>\n",
       "<table border=\"1\" class=\"dataframe\">\n",
       "  <thead>\n",
       "    <tr style=\"text-align: right;\">\n",
       "      <th></th>\n",
       "      <th>heart rate</th>\n",
       "    </tr>\n",
       "  </thead>\n",
       "  <tbody>\n",
       "    <tr>\n",
       "      <th>0</th>\n",
       "      <td>100</td>\n",
       "    </tr>\n",
       "    <tr>\n",
       "      <th>1</th>\n",
       "      <td>99</td>\n",
       "    </tr>\n",
       "    <tr>\n",
       "      <th>2</th>\n",
       "      <td>103</td>\n",
       "    </tr>\n",
       "    <tr>\n",
       "      <th>3</th>\n",
       "      <td>97</td>\n",
       "    </tr>\n",
       "    <tr>\n",
       "      <th>4</th>\n",
       "      <td>97</td>\n",
       "    </tr>\n",
       "  </tbody>\n",
       "</table>\n",
       "</div>"
      ],
      "text/plain": [
       "   heart rate\n",
       "0         100\n",
       "1          99\n",
       "2         103\n",
       "3          97\n",
       "4          97"
      ]
     },
     "execution_count": 13,
     "metadata": {},
     "output_type": "execute_result"
    }
   ],
   "source": [
    "hr = pd.read_table(os.path.join(HRDIR, hr_files[-1]), \n",
    "                   header=None, names=[\"heart rate\"])\n",
    "print(hr.shape)\n",
    "hr.head()"
   ]
  },
  {
   "cell_type": "markdown",
   "metadata": {},
   "source": [
    "## [``plot()``](https://pandas.pydata.org/pandas-docs/stable/generated/pandas.DataFrame.plot.html)\n"
   ]
  },
  {
   "cell_type": "code",
   "execution_count": 14,
   "metadata": {},
   "outputs": [
    {
     "data": {
      "text/plain": [
       "<matplotlib.axes._subplots.AxesSubplot at 0x7f5e679f1b38>"
      ]
     },
     "execution_count": 14,
     "metadata": {},
     "output_type": "execute_result"
    },
    {
     "data": {
      "image/png": "[encoded data removed]",
      "text/plain": [
       "<Figure size 432x288 with 1 Axes>"
      ]
     },
     "metadata": {},
     "output_type": "display_data"
    }
   ],
   "source": [
    "hr[\"heart rate\"].plot()"
   ]
  },
  {
   "cell_type": "markdown",
   "metadata": {},
   "source": [
    "### We can provide an axis for drawing"
   ]
  },
  {
   "cell_type": "code",
   "execution_count": 15,
   "metadata": {},
   "outputs": [
    {
     "data": {
      "text/plain": [
       "Text(0,0.5,'mmHG')"
      ]
     },
     "execution_count": 15,
     "metadata": {},
     "output_type": "execute_result"
    },
    {
     "data": {
      "image/png": "[encoded data removed]",
      "text/plain": [
       "<Figure size 432x288 with 1 Axes>"
      ]
     },
     "metadata": {},
     "output_type": "display_data"
    }
   ],
   "source": [
    "fig, ax = plt.subplots()\n",
    "hr[\"heart rate\"].plot(title=\"Blood pressure plot\", ax=ax)\n",
    "ax.set_xlabel(\"time\")\n",
    "ax.set_ylabel(\"mmHG\")"
   ]
  },
  {
   "cell_type": "markdown",
   "metadata": {},
   "source": [
    "## [Matplotlib Color](http://matplotlib.org/api/colors_api.html)\n",
    "\n",
    "Unless we tell it otherwise, Pandas will use default colors for the plot. However, we can specify the colors ourselves. Matplotlib has a small set of named colors that can be specified by name or a single letter, for example ``'r'`` (``'red'``) or ``'k'`` (``'black'``). Matplotlib also recognizes [HTML named colors](https://www.w3schools.com/colors/colors_names.asp).\n",
    "\n"
   ]
  },
  {
   "cell_type": "code",
   "execution_count": 16,
   "metadata": {},
   "outputs": [
    {
     "data": {
      "text/plain": [
       "<matplotlib.axes._subplots.AxesSubplot at 0x7f5eb8800f60>"
      ]
     },
     "execution_count": 16,
     "metadata": {},
     "output_type": "execute_result"
    },
    {
     "data": {
      "image/png": "[encoded data removed]",
      "text/plain": [
       "<Figure size 432x288 with 1 Axes>"
      ]
     },
     "metadata": {},
     "output_type": "display_data"
    }
   ],
   "source": [
    "hr[\"heart rate\"].plot(color='y')"
   ]
  },
  {
   "cell_type": "code",
   "execution_count": 17,
   "metadata": {},
   "outputs": [
    {
     "data": {
      "text/plain": [
       "<matplotlib.axes._subplots.AxesSubplot at 0x7f5eb88ea4a8>"
      ]
     },
     "execution_count": 17,
     "metadata": {},
     "output_type": "execute_result"
    },
    {
     "data": {
      "image/png": "[encoded data removed]",
      "text/plain": [
       "<Figure size 432x288 with 1 Axes>"
      ]
     },
     "metadata": {},
     "output_type": "display_data"
    }
   ],
   "source": [
    "hr[\"heart rate\"].plot(color=\"LightSalmon\")"
   ]
  },
  {
   "cell_type": "markdown",
   "metadata": {},
   "source": [
    "## [RGB$\\alpha$ Color](https://en.wikipedia.org/wiki/RGBA_color_space)\n",
    "\n",
    "There are many ways to represent color numerically. One of the simplest models of color is the **R**ed, **G**reen, **B**lue (**RGB**). This color model uses numbers to represent the portion of red, green, and blue light that form the color. Matplotlib uses a three-tuple of numbers between zero and one in a tuple to represent a color. 1 is the maximum amount of color and zero is the minimum. (1,1,1) is white, (0,0,0) is black, and (1,0,0) is red, for example. We can add a fourth number to represent the transparency if the color: 1 is fully opaque and 0 is fully transparent.\n",
    "\n",
    "## Example\n",
    "\n",
    "Plot the heart rate with the color red and an $\\alpha=0.25$."
   ]
  },
  {
   "cell_type": "code",
   "execution_count": 18,
   "metadata": {},
   "outputs": [
    {
     "data": {
      "text/plain": [
       "<matplotlib.axes._subplots.AxesSubplot at 0x7f5eb8521080>"
      ]
     },
     "execution_count": 18,
     "metadata": {},
     "output_type": "execute_result"
    },
    {
     "data": {
      "image/png": "[encoded data removed]",
      "text/plain": [
       "<Figure size 432x288 with 1 Axes>"
      ]
     },
     "metadata": {},
     "output_type": "display_data"
    }
   ],
   "source": [
    "hr[\"heart rate\"].plot(color=(1,0,0, 0.25))"
   ]
  },
  {
   "cell_type": "code",
   "execution_count": 23,
   "metadata": {},
   "outputs": [
    {
     "data": {
      "text/plain": [
       "(40, 150)"
      ]
     },
     "execution_count": 23,
     "metadata": {},
     "output_type": "execute_result"
    },
    {
     "data": {
      "image/png": "[encoded data removed]",
      "text/plain": [
       "<Figure size 432x288 with 1 Axes>"
      ]
     },
     "metadata": {},
     "output_type": "display_data"
    }
   ],
   "source": [
    "fig1, ax1 = plt.subplots(1)\n",
    "hr[\"heart rate\"].plot(color=(0,1,0, 0.75), ax=ax1)\n",
    "ax1.set_xlabel(\"Time Point\")\n",
    "ax1.set_ylabel(\"Heart Rate (beats/minute)\")\n",
    "ax1.set_ylim((40, 150))"
   ]
  },
  {
   "cell_type": "markdown",
   "metadata": {},
   "source": [
    "## Visualizing Blood Pressures\n",
    "\n",
    "Read in the blood pressure data for patient ``1000.txt`` and plot the systolic values."
   ]
  },
  {
   "cell_type": "code",
   "execution_count": 24,
   "metadata": {},
   "outputs": [
    {
     "ename": "TypeError",
     "evalue": "Empty 'DataFrame': no numeric data to plot",
     "output_type": "error",
     "traceback": [
      "\u001b[0;31m---------------------------------------------------------------------------\u001b[0m",
      "\u001b[0;31mTypeError\u001b[0m                                 Traceback (most recent call last)",
      "\u001b[0;32m<ipython-input-24-06f107e38962>\u001b[0m in \u001b[0;36m<module>\u001b[0;34m()\u001b[0m\n\u001b[1;32m      3\u001b[0m                                        \"diastolic\"])\n\u001b[1;32m      4\u001b[0m \u001b[0;31m#bp[\"systolic\"].plot()\u001b[0m\u001b[0;34m\u001b[0m\u001b[0;34m\u001b[0m\u001b[0m\n\u001b[0;32m----> 5\u001b[0;31m \u001b[0mbp\u001b[0m\u001b[0;34m[\u001b[0m\u001b[0;34m\"systolic\"\u001b[0m\u001b[0;34m]\u001b[0m\u001b[0;34m.\u001b[0m\u001b[0mplot\u001b[0m\u001b[0;34m(\u001b[0m\u001b[0;34m)\u001b[0m\u001b[0;34m\u001b[0m\u001b[0m\n\u001b[0m",
      "\u001b[0;32m/opt/conda/lib/python3.5/site-packages/pandas/plotting/_core.py\u001b[0m in \u001b[0;36m__call__\u001b[0;34m(self, kind, ax, figsize, use_index, title, grid, legend, style, logx, logy, loglog, xticks, yticks, xlim, ylim, rot, fontsize, colormap, table, yerr, xerr, label, secondary_y, **kwds)\u001b[0m\n\u001b[1;32m   2739\u001b[0m                            \u001b[0mcolormap\u001b[0m\u001b[0;34m=\u001b[0m\u001b[0mcolormap\u001b[0m\u001b[0;34m,\u001b[0m \u001b[0mtable\u001b[0m\u001b[0;34m=\u001b[0m\u001b[0mtable\u001b[0m\u001b[0;34m,\u001b[0m \u001b[0myerr\u001b[0m\u001b[0;34m=\u001b[0m\u001b[0myerr\u001b[0m\u001b[0;34m,\u001b[0m\u001b[0;34m\u001b[0m\u001b[0m\n\u001b[1;32m   2740\u001b[0m                            \u001b[0mxerr\u001b[0m\u001b[0;34m=\u001b[0m\u001b[0mxerr\u001b[0m\u001b[0;34m,\u001b[0m \u001b[0mlabel\u001b[0m\u001b[0;34m=\u001b[0m\u001b[0mlabel\u001b[0m\u001b[0;34m,\u001b[0m \u001b[0msecondary_y\u001b[0m\u001b[0;34m=\u001b[0m\u001b[0msecondary_y\u001b[0m\u001b[0;34m,\u001b[0m\u001b[0;34m\u001b[0m\u001b[0m\n\u001b[0;32m-> 2741\u001b[0;31m                            **kwds)\n\u001b[0m\u001b[1;32m   2742\u001b[0m     \u001b[0m__call__\u001b[0m\u001b[0;34m.\u001b[0m\u001b[0m__doc__\u001b[0m \u001b[0;34m=\u001b[0m \u001b[0mplot_series\u001b[0m\u001b[0;34m.\u001b[0m\u001b[0m__doc__\u001b[0m\u001b[0;34m\u001b[0m\u001b[0m\n\u001b[1;32m   2743\u001b[0m \u001b[0;34m\u001b[0m\u001b[0m\n",
      "\u001b[0;32m/opt/conda/lib/python3.5/site-packages/pandas/plotting/_core.py\u001b[0m in \u001b[0;36mplot_series\u001b[0;34m(data, kind, ax, figsize, use_index, title, grid, legend, style, logx, logy, loglog, xticks, yticks, xlim, ylim, rot, fontsize, colormap, table, yerr, xerr, label, secondary_y, **kwds)\u001b[0m\n\u001b[1;32m   2000\u001b[0m                  \u001b[0myerr\u001b[0m\u001b[0;34m=\u001b[0m\u001b[0myerr\u001b[0m\u001b[0;34m,\u001b[0m \u001b[0mxerr\u001b[0m\u001b[0;34m=\u001b[0m\u001b[0mxerr\u001b[0m\u001b[0;34m,\u001b[0m\u001b[0;34m\u001b[0m\u001b[0m\n\u001b[1;32m   2001\u001b[0m                  \u001b[0mlabel\u001b[0m\u001b[0;34m=\u001b[0m\u001b[0mlabel\u001b[0m\u001b[0;34m,\u001b[0m \u001b[0msecondary_y\u001b[0m\u001b[0;34m=\u001b[0m\u001b[0msecondary_y\u001b[0m\u001b[0;34m,\u001b[0m\u001b[0;34m\u001b[0m\u001b[0m\n\u001b[0;32m-> 2002\u001b[0;31m                  **kwds)\n\u001b[0m\u001b[1;32m   2003\u001b[0m \u001b[0;34m\u001b[0m\u001b[0m\n\u001b[1;32m   2004\u001b[0m \u001b[0;34m\u001b[0m\u001b[0m\n",
      "\u001b[0;32m/opt/conda/lib/python3.5/site-packages/pandas/plotting/_core.py\u001b[0m in \u001b[0;36m_plot\u001b[0;34m(data, x, y, subplots, ax, kind, **kwds)\u001b[0m\n\u001b[1;32m   1802\u001b[0m         \u001b[0mplot_obj\u001b[0m \u001b[0;34m=\u001b[0m \u001b[0mklass\u001b[0m\u001b[0;34m(\u001b[0m\u001b[0mdata\u001b[0m\u001b[0;34m,\u001b[0m \u001b[0msubplots\u001b[0m\u001b[0;34m=\u001b[0m\u001b[0msubplots\u001b[0m\u001b[0;34m,\u001b[0m \u001b[0max\u001b[0m\u001b[0;34m=\u001b[0m\u001b[0max\u001b[0m\u001b[0;34m,\u001b[0m \u001b[0mkind\u001b[0m\u001b[0;34m=\u001b[0m\u001b[0mkind\u001b[0m\u001b[0;34m,\u001b[0m \u001b[0;34m**\u001b[0m\u001b[0mkwds\u001b[0m\u001b[0;34m)\u001b[0m\u001b[0;34m\u001b[0m\u001b[0m\n\u001b[1;32m   1803\u001b[0m \u001b[0;34m\u001b[0m\u001b[0m\n\u001b[0;32m-> 1804\u001b[0;31m     \u001b[0mplot_obj\u001b[0m\u001b[0;34m.\u001b[0m\u001b[0mgenerate\u001b[0m\u001b[0;34m(\u001b[0m\u001b[0;34m)\u001b[0m\u001b[0;34m\u001b[0m\u001b[0m\n\u001b[0m\u001b[1;32m   1805\u001b[0m     \u001b[0mplot_obj\u001b[0m\u001b[0;34m.\u001b[0m\u001b[0mdraw\u001b[0m\u001b[0;34m(\u001b[0m\u001b[0;34m)\u001b[0m\u001b[0;34m\u001b[0m\u001b[0m\n\u001b[1;32m   1806\u001b[0m     \u001b[0;32mreturn\u001b[0m \u001b[0mplot_obj\u001b[0m\u001b[0;34m.\u001b[0m\u001b[0mresult\u001b[0m\u001b[0;34m\u001b[0m\u001b[0m\n",
      "\u001b[0;32m/opt/conda/lib/python3.5/site-packages/pandas/plotting/_core.py\u001b[0m in \u001b[0;36mgenerate\u001b[0;34m(self)\u001b[0m\n\u001b[1;32m    256\u001b[0m     \u001b[0;32mdef\u001b[0m \u001b[0mgenerate\u001b[0m\u001b[0;34m(\u001b[0m\u001b[0mself\u001b[0m\u001b[0;34m)\u001b[0m\u001b[0;34m:\u001b[0m\u001b[0;34m\u001b[0m\u001b[0m\n\u001b[1;32m    257\u001b[0m         \u001b[0mself\u001b[0m\u001b[0;34m.\u001b[0m\u001b[0m_args_adjust\u001b[0m\u001b[0;34m(\u001b[0m\u001b[0;34m)\u001b[0m\u001b[0;34m\u001b[0m\u001b[0m\n\u001b[0;32m--> 258\u001b[0;31m         \u001b[0mself\u001b[0m\u001b[0;34m.\u001b[0m\u001b[0m_compute_plot_data\u001b[0m\u001b[0;34m(\u001b[0m\u001b[0;34m)\u001b[0m\u001b[0;34m\u001b[0m\u001b[0m\n\u001b[0m\u001b[1;32m    259\u001b[0m         \u001b[0mself\u001b[0m\u001b[0;34m.\u001b[0m\u001b[0m_setup_subplots\u001b[0m\u001b[0;34m(\u001b[0m\u001b[0;34m)\u001b[0m\u001b[0;34m\u001b[0m\u001b[0m\n\u001b[1;32m    260\u001b[0m         \u001b[0mself\u001b[0m\u001b[0;34m.\u001b[0m\u001b[0m_make_plot\u001b[0m\u001b[0;34m(\u001b[0m\u001b[0;34m)\u001b[0m\u001b[0;34m\u001b[0m\u001b[0m\n",
      "\u001b[0;32m/opt/conda/lib/python3.5/site-packages/pandas/plotting/_core.py\u001b[0m in \u001b[0;36m_compute_plot_data\u001b[0;34m(self)\u001b[0m\n\u001b[1;32m    371\u001b[0m         \u001b[0;32mif\u001b[0m \u001b[0mis_empty\u001b[0m\u001b[0;34m:\u001b[0m\u001b[0;34m\u001b[0m\u001b[0m\n\u001b[1;32m    372\u001b[0m             raise TypeError('Empty {0!r}: no numeric data to '\n\u001b[0;32m--> 373\u001b[0;31m                             'plot'.format(numeric_data.__class__.__name__))\n\u001b[0m\u001b[1;32m    374\u001b[0m \u001b[0;34m\u001b[0m\u001b[0m\n\u001b[1;32m    375\u001b[0m         \u001b[0mself\u001b[0m\u001b[0;34m.\u001b[0m\u001b[0mdata\u001b[0m \u001b[0;34m=\u001b[0m \u001b[0mnumeric_data\u001b[0m\u001b[0;34m\u001b[0m\u001b[0m\n",
      "\u001b[0;31mTypeError\u001b[0m: Empty 'DataFrame': no numeric data to plot"
     ]
    }
   ],
   "source": [
    "bp = pd.read_table(os.path.join(BPDIR, \"1000.txt\"), \n",
    "                   header=None, names=[\"systolic\", \n",
    "                                       \"diastolic\"])\n",
    "#bp[\"systolic\"].plot()\n",
    "bp[\"systolic\"].plot()"
   ]
  },
  {
   "cell_type": "markdown",
   "metadata": {},
   "source": [
    "### What went wrong?\n",
    "#### The file does exist"
   ]
  },
  {
   "cell_type": "code",
   "execution_count": null,
   "metadata": {},
   "outputs": [],
   "source": [
    "os.path.exists(os.path.join(BPDIR, \"1000.txt\"))"
   ]
  },
  {
   "cell_type": "markdown",
   "metadata": {},
   "source": [
    "### What went wrong? How can our data not be numeric?\n",
    "\n",
    "In a terminal open the data file with ``vim`` and go to line 753.\n",
    "\n",
    "#### What do you find?"
   ]
  },
  {
   "cell_type": "markdown",
   "metadata": {},
   "source": [
    "#### Dealing with Missing Values"
   ]
  },
  {
   "cell_type": "code",
   "execution_count": 25,
   "metadata": {},
   "outputs": [
    {
     "data": {
      "text/plain": [
       "<matplotlib.axes._subplots.AxesSubplot at 0x7f5eb85cb5c0>"
      ]
     },
     "execution_count": 25,
     "metadata": {},
     "output_type": "execute_result"
    },
    {
     "data": {
      "image/png": "[encoded data removed]",
      "text/plain": [
       "<Figure size 432x288 with 1 Axes>"
      ]
     },
     "metadata": {},
     "output_type": "display_data"
    }
   ],
   "source": [
    "bp = pd.read_table(os.path.join(BPDIR, \"1000.txt\"), \n",
    "                   header=None, names=[\"systolic\", \"diastolic\"], \n",
    "                   na_values=[\"None\"])\n",
    "bp[\"systolic\"].plot()"
   ]
  },
  {
   "cell_type": "markdown",
   "metadata": {},
   "source": [
    "#### We can plot the whole DataFrame"
   ]
  },
  {
   "cell_type": "code",
   "execution_count": 26,
   "metadata": {},
   "outputs": [
    {
     "data": {
      "text/plain": [
       "<matplotlib.axes._subplots.AxesSubplot at 0x7f5eb85a0d68>"
      ]
     },
     "execution_count": 26,
     "metadata": {},
     "output_type": "execute_result"
    },
    {
     "data": {
      "image/png": "[encoded data removed]",
      "text/plain": [
       "<Figure size 432x288 with 1 Axes>"
      ]
     },
     "metadata": {},
     "output_type": "display_data"
    }
   ],
   "source": [
    "bp.plot()"
   ]
  },
  {
   "cell_type": "markdown",
   "metadata": {},
   "source": [
    "## Using an axis\n",
    "\n",
    "We can create an axis and pass this as a keyword argument to our plotting methods. We can then use the axis object to configure the graph."
   ]
  },
  {
   "cell_type": "code",
   "execution_count": 27,
   "metadata": {},
   "outputs": [
    {
     "data": {
      "text/plain": [
       "<matplotlib.axes._subplots.AxesSubplot at 0x7f5eb87bbda0>"
      ]
     },
     "execution_count": 27,
     "metadata": {},
     "output_type": "execute_result"
    },
    {
     "data": {
      "image/png": "[encoded data removed]",
      "text/plain": [
       "<Figure size 432x288 with 1 Axes>"
      ]
     },
     "metadata": {},
     "output_type": "display_data"
    }
   ],
   "source": [
    "fig2, ax2 = plt.subplots(1)\n",
    "bp[\"systolic\"].plot(color=(1,0,0, 0.25), ax=ax2)\n",
    "bp[\"diastolic\"].plot(color=(0,1,0, 0.25), ax=ax2)\n"
   ]
  },
  {
   "cell_type": "markdown",
   "metadata": {},
   "source": [
    "## Exercise\n",
    "\n",
    "Create a [histogram](https://pandas.pydata.org/pandas-docs/stable/visualization.html#visualization-hist) of the systolic and diastolic blood pressures. Create an axis. Use the axis to set the label for the x axis and to draw a legend. Pick interesting colors.\n",
    "\n",
    "Compare your plot to drawing a histogram of the DataFrame."
   ]
  },
  {
   "cell_type": "code",
   "execution_count": null,
   "metadata": {},
   "outputs": [],
   "source": []
  },
  {
   "cell_type": "markdown",
   "metadata": {},
   "source": [
    "## [Seaborn](https://stanford.edu/~mwaskom/software/seaborn/)\n",
    "\n",
    "We have been using matplotlib for our visualization. This is the workhorse of Python visualization although there are important alternatives, including [Bokeh](http://bokeh.pydata.org/en/latest/), [cairo](http://cairographics.org/), [datashader](http://datashader.readthedocs.io/en/latest/), [graphite (time series data)](http://graphite.readthedocs.io/en/latest/). [Seaborn](https://stanford.edu/~mwaskom/software/seaborn/) is a statistical visualization program that is built on top of Matplotlib. Since statistical exploration of our data is a primary task in data science, seaborn can be a very useful tool in this domain. Seaborn seems to work best with [Pandas](http://pandas.pydata.org/), but can be used directly with numpy arrays. Here we provide an example using our blood pressure data."
   ]
  },
  {
   "cell_type": "code",
   "execution_count": 28,
   "metadata": {},
   "outputs": [
    {
     "data": {
      "text/plain": [
       "<seaborn.axisgrid.JointGrid at 0x7f5eb87c32b0>"
      ]
     },
     "execution_count": 28,
     "metadata": {},
     "output_type": "execute_result"
    },
    {
     "data": {
      "image/png": "[encoded data removed]",
      "text/plain": [
       "<Figure size 432x432 with 3 Axes>"
      ]
     },
     "metadata": {},
     "output_type": "display_data"
    }
   ],
   "source": [
    "import seaborn as sns\n",
    "sns.jointplot(bp[\"systolic\"], bp[\"diastolic\"], kind='kde')"
   ]
  },
  {
   "cell_type": "markdown",
   "metadata": {},
   "source": [
    "### List Comprehension"
   ]
  },
  {
   "cell_type": "code",
   "execution_count": 29,
   "metadata": {},
   "outputs": [
    {
     "data": {
      "text/html": [
       "<div>\n",
       "<style scoped>\n",
       "    .dataframe tbody tr th:only-of-type {\n",
       "        vertical-align: middle;\n",
       "    }\n",
       "\n",
       "    .dataframe tbody tr th {\n",
       "        vertical-align: top;\n",
       "    }\n",
       "\n",
       "    .dataframe thead th {\n",
       "        text-align: right;\n",
       "    }\n",
       "</style>\n",
       "<table border=\"1\" class=\"dataframe\">\n",
       "  <thead>\n",
       "    <tr style=\"text-align: right;\">\n",
       "      <th></th>\n",
       "      <th>systolic</th>\n",
       "      <th>diastolic</th>\n",
       "    </tr>\n",
       "  </thead>\n",
       "  <tbody>\n",
       "    <tr>\n",
       "      <th>0</th>\n",
       "      <td>146</td>\n",
       "      <td>64</td>\n",
       "    </tr>\n",
       "    <tr>\n",
       "      <th>1</th>\n",
       "      <td>134</td>\n",
       "      <td>51</td>\n",
       "    </tr>\n",
       "    <tr>\n",
       "      <th>2</th>\n",
       "      <td>134</td>\n",
       "      <td>54</td>\n",
       "    </tr>\n",
       "    <tr>\n",
       "      <th>3</th>\n",
       "      <td>131</td>\n",
       "      <td>60</td>\n",
       "    </tr>\n",
       "    <tr>\n",
       "      <th>4</th>\n",
       "      <td>133</td>\n",
       "      <td>55</td>\n",
       "    </tr>\n",
       "  </tbody>\n",
       "</table>\n",
       "</div>"
      ],
      "text/plain": [
       "   systolic  diastolic\n",
       "0       146         64\n",
       "1       134         51\n",
       "2       134         54\n",
       "3       131         60\n",
       "4       133         55"
      ]
     },
     "execution_count": 29,
     "metadata": {},
     "output_type": "execute_result"
    }
   ],
   "source": [
    "all_bp = [pd.read_table(os.path.join(BPDIR, f), \n",
    "              header=None, \n",
    "              names=[\"systolic\", \"diastolic\"], \n",
    "              na_values=[\"None\"]) for f in bp_files]\n",
    "all_bp[0].head()"
   ]
  },
  {
   "cell_type": "code",
   "execution_count": 30,
   "metadata": {},
   "outputs": [],
   "source": [
    "summary_data = [(bp[\"systolic\"].mean(), \n",
    "                 bp[\"diastolic\"].mean(), \n",
    "                 np.sqrt(bp[\"systolic\"].std()*bp[\"diastolic\"].std())) for bp in all_bp]"
   ]
  },
  {
   "cell_type": "code",
   "execution_count": null,
   "metadata": {},
   "outputs": [],
   "source": [
    "sdata = np.array(summary_data)\n",
    "sdata.shape"
   ]
  },
  {
   "cell_type": "code",
   "execution_count": null,
   "metadata": {},
   "outputs": [],
   "source": [
    "fig_summary, ax_summary = plt.subplots(1)\n",
    "fig_summary.set_size_inches(12,12)\n",
    "ax_summary.scatter(sdata[:,1], sdata[:,0], marker='o', s= 4*sdata[:,2], alpha=0.25, c=(1,0,0.5))\n",
    "ax_summary.set_xlabel(\"diastolic pressure (mmHg)\", fontsize=18)\n",
    "ax_summary.set_ylabel(\"systolic pressure (mmHg)\", fontsize=18)\n",
    "ax_summary.set_title(\"Blood Pressure summary for ICU Patients\\nCircle radius is 4$\\sqrt{\\sigma_{systolic}\\sigma_{diastolic}}$\",\n",
    "                    fontsize=24)\n",
    "fig_summary.savefig(\"blood_pressure_summary.png\", dpi=600)"
   ]
  },
  {
   "cell_type": "markdown",
   "metadata": {},
   "source": [
    "## Exercise 1.\n",
    "\n",
    "Visualize the blood pressure data using a scatter plot with the following characteristics:\n",
    "\n",
    "1. The x-location is the mean diastolic blood pressure for the patient\n",
    "1. The y-location is the mean systolic blood pressure for the patient\n",
    "1. The size of the circular marker is proportional to the [geometric mean](https://en.wikipedia.org/wiki/Geometric_mean) of the systolic and diastolic standard deviations\n",
    "1. Colors are randomly selected for each marker"
   ]
  },
  {
   "cell_type": "markdown",
   "metadata": {},
   "source": [
    "<a rel=\"license\" href=\"http://creativecommons.org/licenses/by-nc-sa/4.0/\"><img alt=\"Creative Commons License\" style=\"border-width:0\" src=\"https://i.creativecommons.org/l/by-nc-sa/4.0/88x31.png\" /></a><br /><span xmlns:dct=\"http://purl.org/dc/terms/\" property=\"dct:title\">DeCART</span> by <span xmlns:cc=\"http://creativecommons.org/ns#\" property=\"cc:attributionName\">Brian E. Chapman</span> is licensed under a <a rel=\"license\" href=\"http://creativecommons.org/licenses/by-nc-sa/4.0/\">Creative Commons Attribution-NonCommercial-ShareAlike 4.0 International License</a>."
   ]
  },
  {
   "cell_type": "code",
   "execution_count": null,
   "metadata": {},
   "outputs": [],
   "source": [
    "help(plt.scatter)"
   ]
  },
  {
   "cell_type": "code",
   "execution_count": null,
   "metadata": {},
   "outputs": [],
   "source": []
  }
 ],
 "metadata": {
  "kernelspec": {
   "display_name": "Python 3",
   "language": "python",
   "name": "python3"
  },
  "language_info": {
   "codemirror_mode": {
    "name": "ipython",
    "version": 3
   },
   "file_extension": ".py",
   "mimetype": "text/x-python",
   "name": "python",
   "nbconvert_exporter": "python",
   "pygments_lexer": "ipython3",
   "version": "3.5.5"
  }
 },
 "nbformat": 4,
 "nbformat_minor": 1
}
